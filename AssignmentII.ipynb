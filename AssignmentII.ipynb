{
 "cells": [
  {
   "cell_type": "markdown",
   "id": "d7844f06",
   "metadata": {},
   "source": [
    "# Importing \n"
   ]
  },
  {
   "cell_type": "code",
   "execution_count": 1,
   "id": "7f2a1982",
   "metadata": {},
   "outputs": [],
   "source": [
    "from scipy import constants\n",
    "from scipy.integrate import odeint\n",
    "import numpy as np\n",
    "from matplotlib import pyplot as plt\n"
   ]
  },
  {
   "cell_type": "code",
   "execution_count": 2,
   "id": "312a2d26",
   "metadata": {},
   "outputs": [],
   "source": [
    "def model_evaluation(model, xs):\n",
    "    return np.array(list(map(model, xs)))"
   ]
  },
  {
   "cell_type": "markdown",
   "id": "16a51422",
   "metadata": {},
   "source": [
    "# Mathematical Model "
   ]
  },
  {
   "cell_type": "markdown",
   "id": "51d45af9",
   "metadata": {},
   "source": [
    "Using proportortional Controller for closed loop model"
   ]
  },
  {
   "cell_type": "code",
   "execution_count": 3,
   "id": "fd3efa11",
   "metadata": {},
   "outputs": [],
   "source": [
    "# Mass of the car, kg\n",
    "m = 700\n",
    "\n",
    "#Thrust Parameter , (N / %Pedal)\n",
    "F_pedal = 30\n",
    "\n",
    "#Density of Air, kg/m^3 \n",
    "Rho = 1.225\n",
    "\n",
    "#Cross-sectional Area of Car , m^2\n",
    "Ar = 5\n",
    "\n",
    "#Drag Coefficient\n",
    "Cd = 0.24\n",
    "\n",
    "# Controller gain\n",
    "K_c = 13.037\n",
    "#K_c = 20.\n",
    "\n"
   ]
  },
  {
   "cell_type": "code",
   "execution_count": 4,
   "id": "3ce58b10",
   "metadata": {},
   "outputs": [],
   "source": [
    "def model_vehicle (V, t, st_func , dis_func):\n",
    "    \n",
    "    \n",
    "    V_sp = st_func(t)\n",
    "    theta = dis_func(t)\n",
    "    \n",
    "    \n",
    "    drive = F_pedal * K_c * (V_sp - V)\n",
    "    drag = 0.5 * Rho * Ar * Cd * (V**2)\n",
    "    slope = constants.g * np.sin(theta)\n",
    "    return (1. / m) * (drive - drag) - slope \n",
    "    \n",
    "    \n",
    "    \n"
   ]
  },
  {
   "cell_type": "code",
   "execution_count": 5,
   "id": "eade5569",
   "metadata": {},
   "outputs": [],
   "source": [
    "t = np.linspace(0, 200, 100)"
   ]
  },
  {
   "cell_type": "code",
   "execution_count": 6,
   "id": "c8c2bbac",
   "metadata": {},
   "outputs": [
    {
     "data": {
      "text/plain": [
       "array([  0.        ,   2.02020202,   4.04040404,   6.06060606,\n",
       "         8.08080808,  10.1010101 ,  12.12121212,  14.14141414,\n",
       "        16.16161616,  18.18181818,  20.2020202 ,  22.22222222,\n",
       "        24.24242424,  26.26262626,  28.28282828,  30.3030303 ,\n",
       "        32.32323232,  34.34343434,  36.36363636,  38.38383838,\n",
       "        40.4040404 ,  42.42424242,  44.44444444,  46.46464646,\n",
       "        48.48484848,  50.50505051,  52.52525253,  54.54545455,\n",
       "        56.56565657,  58.58585859,  60.60606061,  62.62626263,\n",
       "        64.64646465,  66.66666667,  68.68686869,  70.70707071,\n",
       "        72.72727273,  74.74747475,  76.76767677,  78.78787879,\n",
       "        80.80808081,  82.82828283,  84.84848485,  86.86868687,\n",
       "        88.88888889,  90.90909091,  92.92929293,  94.94949495,\n",
       "        96.96969697,  98.98989899, 101.01010101, 103.03030303,\n",
       "       105.05050505, 107.07070707, 109.09090909, 111.11111111,\n",
       "       113.13131313, 115.15151515, 117.17171717, 119.19191919,\n",
       "       121.21212121, 123.23232323, 125.25252525, 127.27272727,\n",
       "       129.29292929, 131.31313131, 133.33333333, 135.35353535,\n",
       "       137.37373737, 139.39393939, 141.41414141, 143.43434343,\n",
       "       145.45454545, 147.47474747, 149.49494949, 151.51515152,\n",
       "       153.53535354, 155.55555556, 157.57575758, 159.5959596 ,\n",
       "       161.61616162, 163.63636364, 165.65656566, 167.67676768,\n",
       "       169.6969697 , 171.71717172, 173.73737374, 175.75757576,\n",
       "       177.77777778, 179.7979798 , 181.81818182, 183.83838384,\n",
       "       185.85858586, 187.87878788, 189.8989899 , 191.91919192,\n",
       "       193.93939394, 195.95959596, 197.97979798, 200.        ])"
      ]
     },
     "execution_count": 6,
     "metadata": {},
     "output_type": "execute_result"
    }
   ],
   "source": [
    "t"
   ]
  },
  {
   "cell_type": "code",
   "execution_count": 7,
   "id": "b9872f13",
   "metadata": {},
   "outputs": [],
   "source": [
    "def t_func(t):\n",
    "        \n",
    "    if t < 20:\n",
    "        return 0\n",
    "        \n",
    "    if t >= 20 and t < 100:\n",
    "        return 15\n",
    "        \n",
    "    if t >= 100 and t < 150:\n",
    "        return 20\n",
    "    \n",
    "    if t >= 150:\n",
    "        return 10\n",
    "    \n",
    "    \n",
    "def slope_func(t):\n",
    "        \n",
    "#     if t < 20:\n",
    "    return 0\n",
    "        \n",
    "         \n",
    "#     if t >= 20 and t < 100:\n",
    "#         return 1.5\n",
    "        \n",
    "#     if t >= 100 and t < 150:\n",
    "#         return 2.0\n",
    "    \n",
    "#     if t >= 150:\n",
    "#         return 3.0\n",
    "        \n",
    "def slope_func1(t):\n",
    "        \n",
    "    if t < 20:\n",
    "        return 0\n",
    "        \n",
    "         \n",
    "    if t >= 20 and t < 100:\n",
    "         return 3.0\n",
    "        \n",
    "    if t >= 100 and t < 150:\n",
    "        return 4.0\n",
    "    \n",
    "    if t >= 150:\n",
    "        return 6.0\n",
    "    \n",
    "    \n",
    "def slope_func2(t):\n",
    "        \n",
    "    if t < 20:\n",
    "        return 0\n",
    "        \n",
    "         \n",
    "    if t >= 20 and t < 100:\n",
    "        return 1.875\n",
    "        \n",
    "    if t >= 100 and t < 150:\n",
    "        return 2.5\n",
    "    \n",
    "    if t >= 150:\n",
    "         return 3.75\n",
    "\n",
    "     \n",
    "    "
   ]
  },
  {
   "cell_type": "code",
   "execution_count": null,
   "id": "ff9cd079",
   "metadata": {},
   "outputs": [],
   "source": []
  },
  {
   "cell_type": "markdown",
   "id": "26810f91",
   "metadata": {},
   "source": [
    "# Simulation"
   ]
  },
  {
   "cell_type": "code",
   "execution_count": 8,
   "id": "5f756b05",
   "metadata": {},
   "outputs": [],
   "source": [
    "initial = 0\n",
    "v_sim = [initial, ]\n",
    "\n",
    "for i in range(len(t) - 1):\n",
    "    t_pair = t[i:i+2]\n",
    "    t_now, t_next = t_pair\n",
    "    step_sim = odeint(model_vehicle, initial, t_pair, args=(t_func, slope_func))\n",
    "    v_last = step_sim.reshape(-1)[-1]\n",
    "    v_sim.append(v_last)\n",
    "    initial = v_last \n",
    "    #step_sim1 = odeint(model_vehicle, initial, t[i:i+2], args=(t_func, slope_func1))\n",
    "    #step_sim2 = odeint(model_vehicle, initial, t[i:i+2], args=(t_func, slope_func2))\n",
    "    \n",
    "         # take the last value\n",
    "    \n",
    "\n",
    "    # appendt it to the resulting list\n",
    "    \n",
    "    \n",
    "    # save it as initial condition for the next run\n",
    "     \n",
    "    \n",
    "v_sim = np.array(v_sim).reshape(-1)\n",
    "#v_sim1= np.array(v_sim).reshape(-1)\n",
    "#v_sim2= np.array(v_sim).reshape(-1)\n",
    " "
   ]
  },
  {
   "cell_type": "code",
   "execution_count": 9,
   "id": "81282cd7",
   "metadata": {},
   "outputs": [
    {
     "data": {
      "image/png": "[encoded data removed]",
      "text/plain": [
       "<Figure size 1008x288 with 1 Axes>"
      ]
     },
     "metadata": {
      "needs_background": "light"
     },
     "output_type": "display_data"
    }
   ],
   "source": [
    "plt.figure(figsize=(14, 4))\n",
    "plt.plot(t, model_evaluation(t_func, t), '--', color= 'gray')\n",
    "plt.plot(t, v_sim)\n",
    "\n",
    "plt.xlabel('$t$, s')\n",
    "plt.ylabel('$v$, m/s')\n",
    "plt.show()"
   ]
  },
  {
   "cell_type": "code",
   "execution_count": 10,
   "id": "4dd22914",
   "metadata": {},
   "outputs": [
    {
     "data": {
      "text/plain": [
       "array([ 0.        ,  0.        ,  0.        ,  0.        ,  0.        ,\n",
       "        0.        ,  0.        ,  0.        ,  0.        ,  0.        ,\n",
       "        1.60087694, 10.58296573, 13.37226835, 14.22579803, 14.48579894,\n",
       "       14.56489061, 14.58894017, 14.59625197, 14.59847491, 14.59915065,\n",
       "       14.59935612, 14.59941857, 14.59943762, 14.5994434 , 14.59944513,\n",
       "       14.59944565, 14.5994459 , 14.59944592, 14.5994459 , 14.59944592,\n",
       "       14.5994459 , 14.59944592, 14.5994459 , 14.59944592, 14.5994459 ,\n",
       "       14.59944592, 14.5994459 , 14.59944592, 14.5994459 , 14.59944592,\n",
       "       14.59944591, 14.59944592, 14.59944591, 14.59944592, 14.59944591,\n",
       "       14.59944592, 14.59944591, 14.59944592, 14.59944591, 14.59944592,\n",
       "       16.72431068, 18.52996986, 19.07029918, 19.23152172, 19.27958558,\n",
       "       19.29391078, 19.29817995, 19.29945224, 19.29983143, 19.29994443,\n",
       "       19.29997815, 19.29998824, 19.29999122, 19.29999211, 19.29999246,\n",
       "       19.2999925 , 19.29999247, 19.2999925 , 19.29999248, 19.2999925 ,\n",
       "       19.29999248, 19.2999925 , 19.29999248, 19.2999925 , 19.29999249,\n",
       "       13.72093106, 11.02354593, 10.19201655,  9.93454855,  9.85471975,\n",
       "        9.82995805,  9.82227639,  9.81989328,  9.81915396,  9.81892455,\n",
       "        9.81885337,  9.81883127,  9.81882437,  9.81882225,  9.8188216 ,\n",
       "        9.81882139,  9.81882133,  9.81882131,  9.8188213 ,  9.81882131,\n",
       "        9.8188213 ,  9.81882131,  9.8188213 ,  9.81882131,  9.8188213 ])"
      ]
     },
     "execution_count": 10,
     "metadata": {},
     "output_type": "execute_result"
    }
   ],
   "source": [
    "v_sim"
   ]
  },
  {
   "cell_type": "code",
   "execution_count": 11,
   "id": "01c3aa67",
   "metadata": {},
   "outputs": [],
   "source": [
    "error = model_evaluation(t_func, t) - v_sim"
   ]
  },
  {
   "cell_type": "code",
   "execution_count": 12,
   "id": "771d7715",
   "metadata": {},
   "outputs": [
    {
     "data": {
      "image/png": "[encoded data removed]",
      "text/plain": [
       "<Figure size 1008x288 with 1 Axes>"
      ]
     },
     "metadata": {
      "needs_background": "light"
     },
     "output_type": "display_data"
    }
   ],
   "source": [
    "plt.figure(figsize=(14, 4))\n",
    "plt.plot(t, error, color='tab:red')\n",
    "plt.axhline(0, linestyle='--', color='tab:green')\n",
    "plt.xlabel('$t$, s')\n",
    "plt.ylabel('Error, m')\n",
    "plt.show()"
   ]
  },
  {
   "cell_type": "code",
   "execution_count": 13,
   "id": "50bab169",
   "metadata": {},
   "outputs": [
    {
     "name": "stdout",
     "output_type": "stream",
     "text": [
      "Sum of squared errors during simulation: 248.500\n"
     ]
    }
   ],
   "source": [
    "sse = np.sum(np.square(error))\n",
    "\n",
    "print('Sum of squared errors during simulation: {:.3f}'.format(sse))"
   ]
  }
 ],
 "metadata": {
  "kernelspec": {
   "display_name": "Python 3",
   "language": "python",
   "name": "python3"
  },
  "language_info": {
   "codemirror_mode": {
    "name": "ipython",
    "version": 3
   },
   "file_extension": ".py",
   "mimetype": "text/x-python",
   "name": "python",
   "nbconvert_exporter": "python",
   "pygments_lexer": "ipython3",
   "version": "3.8.8"
  }
 },
 "nbformat": 4,
 "nbformat_minor": 5
}
